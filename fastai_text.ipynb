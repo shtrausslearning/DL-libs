{
  "nbformat": 4,
  "nbformat_minor": 0,
  "metadata": {
    "colab": {
      "provenance": [],
      "authorship_tag": "ABX9TyPoS1xsKUJIy4L7jtOXdylC",
      "include_colab_link": true
    },
    "kernelspec": {
      "name": "python3",
      "display_name": "Python 3"
    },
    "language_info": {
      "name": "python"
    },
    "gpuClass": "standard"
  },
  "cells": [
    {
      "cell_type": "markdown",
      "metadata": {
        "id": "view-in-github",
        "colab_type": "text"
      },
      "source": [
        "<a href=\"https://colab.research.google.com/github/shtrausslearning/Deep-Learning-Projects/blob/main/fastai_text.ipynb\" target=\"_parent\"><img src=\"https://colab.research.google.com/assets/colab-badge.svg\" alt=\"Open In Colab\"/></a>"
      ]
    },
    {
      "cell_type": "markdown",
      "source": [
        "### Предварительная обработка текста\n",
        "\n",
        "#### Токенизация \n",
        "\n",
        "- Преобразование текста в список слов\n",
        "\n",
        "#### Нумеризация \n",
        "\n",
        "- Составление списка всех уникальных слов словаря и преобразование каждого из них в число, соответствующее его индексу в словарке"
      ],
      "metadata": {
        "id": "e3uqCOvNejD2"
      }
    },
    {
      "cell_type": "code",
      "source": [
        "import fastai\n",
        "print(fastai.__version__)"
      ],
      "metadata": {
        "colab": {
          "base_uri": "https://localhost:8080/"
        },
        "id": "tnKFhYesKIwG",
        "outputId": "ba90f7dc-e5d6-41f3-c542-086de63e2992"
      },
      "execution_count": 25,
      "outputs": [
        {
          "output_type": "stream",
          "name": "stdout",
          "text": [
            "2.7.10\n"
          ]
        }
      ]
    },
    {
      "cell_type": "code",
      "execution_count": 2,
      "metadata": {
        "colab": {
          "base_uri": "https://localhost:8080/",
          "height": 93
        },
        "id": "1tWcIuVhB7lg",
        "outputId": "c5bb215b-3b9c-4c67-cf88-62d2abce141a"
      },
      "outputs": [
        {
          "output_type": "display_data",
          "data": {
            "text/plain": [
              "<IPython.core.display.HTML object>"
            ],
            "text/html": [
              "\n",
              "<style>\n",
              "    /* Turns off some styling */\n",
              "    progress {\n",
              "        /* gets rid of default border in Firefox and Opera. */\n",
              "        border: none;\n",
              "        /* Needs to be in here for Safari polyfill so background images work as expected. */\n",
              "        background-size: auto;\n",
              "    }\n",
              "    progress:not([value]), progress:not([value])::-webkit-progress-bar {\n",
              "        background: repeating-linear-gradient(45deg, #7e7e7e, #7e7e7e 10px, #5c5c5c 10px, #5c5c5c 20px);\n",
              "    }\n",
              "    .progress-bar-interrupted, .progress-bar-interrupted::-webkit-progress-bar {\n",
              "        background: #F44336;\n",
              "    }\n",
              "</style>\n"
            ]
          },
          "metadata": {}
        },
        {
          "output_type": "display_data",
          "data": {
            "text/plain": [
              "<IPython.core.display.HTML object>"
            ],
            "text/html": [
              "\n",
              "    <div>\n",
              "      <progress value='144441344' class='' max='144440600' style='width:300px; height:20px; vertical-align: middle;'></progress>\n",
              "      100.00% [144441344/144440600 00:02&lt;00:00]\n",
              "    </div>\n",
              "    "
            ]
          },
          "metadata": {}
        },
        {
          "output_type": "execute_result",
          "data": {
            "text/plain": [
              "(#7) [Path('/root/.fastai/data/imdb/tmp_lm'),Path('/root/.fastai/data/imdb/test'),Path('/root/.fastai/data/imdb/tmp_clas'),Path('/root/.fastai/data/imdb/README'),Path('/root/.fastai/data/imdb/unsup'),Path('/root/.fastai/data/imdb/train'),Path('/root/.fastai/data/imdb/imdb.vocab')]"
            ]
          },
          "metadata": {},
          "execution_count": 2
        }
      ],
      "source": [
        "# Импортируем данные из URLs данные\n",
        "from fastai.text.all import untar_data, URLs\n",
        "\n",
        "path = untar_data(URLs.IMDB)\n",
        "path.ls()"
      ]
    },
    {
      "cell_type": "code",
      "source": [
        "from fastai.text.all import get_text_files\n",
        "\n",
        "# Все текстовые документы\n",
        "files = get_text_files(path,\n",
        "                       folders=['train','test','unsup'])\n",
        "\n",
        "print(len(files),'files')\n",
        "print(files[0:2])\n",
        "print(type(files)) # fastcode.foundation.L type"
      ],
      "metadata": {
        "colab": {
          "base_uri": "https://localhost:8080/"
        },
        "id": "2RrzVwNkCB0w",
        "outputId": "1bfe4ef0-aa03-425f-c77c-e624d07296b3"
      },
      "execution_count": 5,
      "outputs": [
        {
          "output_type": "stream",
          "name": "stdout",
          "text": [
            "100000 files\n",
            "[Path('/root/.fastai/data/imdb/test/pos/10136_10.txt'), Path('/root/.fastai/data/imdb/test/pos/4167_10.txt')]\n",
            "<class 'fastcore.foundation.L'>\n"
          ]
        }
      ]
    },
    {
      "cell_type": "markdown",
      "source": [
        "### Fastai Токенизация (WordTokeniser)\n",
        "\n",
        "- Для вывода результатов `coll_repr(collection,n)`\n",
        "- Токенизатор Английских слов в `fastai`, используется `SpaCy` (По умолчанию)\n",
        "- Попробуем \n",
        "\n",
        "Примечание\n",
        "\n",
        "- Токенизатор просто разделил слова и знаки препинания\n",
        "- Разделила еще it's на it и 's (на самом деле раздельные слова)\n",
        "- . oтделяется только когда оно часть окончания предложения, но не элементом акронима или числа\n",
        "\n",
        "### Fastai Токенизация (Дополнительная функциональность)\n",
        "\n",
        "Используя `Tokenizer` приносит в процесс токенизации дополнительную функциональность\n",
        "- `xxbos` : начало текста\n",
        "- `xxmaj` : слеующее слово начинается с большой буквой\n",
        "- `xxunk` : слово неизвестно"
      ],
      "metadata": {
        "id": "tTxZWt0FLI7R"
      }
    },
    {
      "cell_type": "code",
      "source": [
        "# Откроем один пример\n",
        "\n",
        "txt = files[0].open().read() # str\n",
        "print(type(txt[:100]))\n",
        "print(txt[:100])\n",
        "\n",
        "# Токенизируем этот пример с WordTokenizer\n",
        "\n",
        "from fastai.text.all import WordTokenizer,first,coll_repr\n",
        "\n",
        "spacy_tkn = WordTokenizer()\n",
        "tokens = first(spacy_tkn([txt]))\n",
        "\n",
        "# tokens\n",
        "print(coll_repr(tokens,30))\n",
        "\n",
        "# Дополнительная функциональность\n",
        "\n",
        "from fastai.text.all import Tokenizer\n",
        "\n",
        "tkn = Tokenizer(spacy_tkn)\n",
        "coll_repr(tkn(txt),30)"
      ],
      "metadata": {
        "colab": {
          "base_uri": "https://localhost:8080/",
          "height": 128
        },
        "id": "nqat2celGq8V",
        "outputId": "1b644bb2-9f10-4bc3-fe4c-a8b6d6f4f9bc"
      },
      "execution_count": 26,
      "outputs": [
        {
          "output_type": "stream",
          "name": "stdout",
          "text": [
            "<class 'str'>\n",
            "This is one of the best films I have ever seen! How anyone can knock this movie just befuddles my im\n",
            "(#143) ['This','is','one','of','the','best','films','I','have','ever','seen','!','How','anyone','can','knock','this','movie','just','befuddles','my','imagination','!','First','of','all',',','Gooding',\"'s\",'and'...]\n"
          ]
        },
        {
          "output_type": "execute_result",
          "data": {
            "text/plain": [
              "\"(#156) ['xxbos','xxmaj','this','is','one','of','the','best','films','i','have','ever','seen','!','xxmaj','how','anyone','can','knock','this','movie','just','befuddles','my','imagination','!','xxmaj','first','of','all'...]\""
            ],
            "application/vnd.google.colaboratory.intrinsic+json": {
              "type": "string"
            }
          },
          "metadata": {},
          "execution_count": 26
        }
      ]
    },
    {
      "cell_type": "markdown",
      "source": [
        "### Fastai Токенизатор  (Токенизация подслов)\n",
        "\n",
        "Выполняется в два этапа:\n",
        "- Анализ корпуса документа в поиске наиболее часто встречающихся групп букв, из которых формулируется словарь\n",
        "- Токенизация этого корпуса на основе словаря элементов подслов  \n",
        "- Fastai list like object L()"
      ],
      "metadata": {
        "id": "xb_wnZ1YpZSf"
      }
    },
    {
      "cell_type": "code",
      "source": [
        "# !pip install sentencepiece!=0.1.90,!=0.1.91"
      ],
      "metadata": {
        "colab": {
          "base_uri": "https://localhost:8080/"
        },
        "id": "HK0HVwrqzWc5",
        "outputId": "2c059ad2-24dd-4562-cbf1-7babea23b000"
      },
      "execution_count": 22,
      "outputs": [
        {
          "output_type": "stream",
          "name": "stdout",
          "text": [
            "Looking in indexes: https://pypi.org/simple, https://us-python.pkg.dev/colab-wheels/public/simple/\n",
            "Collecting sentencepiece!=0.1.90,!=0.1.91\n",
            "  Downloading sentencepiece-0.1.97-cp38-cp38-manylinux_2_17_x86_64.manylinux2014_x86_64.whl (1.3 MB)\n",
            "\u001b[2K     \u001b[90m━━━━━━━━━━━━━━━━━━━━━━━━━━━━━━━━━━━━━━━━\u001b[0m \u001b[32m1.3/1.3 MB\u001b[0m \u001b[31m19.7 MB/s\u001b[0m eta \u001b[36m0:00:00\u001b[0m\n",
            "\u001b[?25hInstalling collected packages: sentencepiece\n",
            "Successfully installed sentencepiece-0.1.97\n"
          ]
        }
      ]
    },
    {
      "cell_type": "code",
      "source": [
        "from fastai.text.all import L \n",
        "\n",
        "txts = L(file.open().read() for file in files[:2000])\n",
        "print(type(txts))\n",
        "\n",
        "sample = txts[0]\n",
        "print(sample)\n",
        "print(type(sample))\n"
      ],
      "metadata": {
        "id": "AcmIYCFWlTKD",
        "colab": {
          "base_uri": "https://localhost:8080/"
        },
        "outputId": "4ee8ff81-dd33-4df3-fe23-da3a0c0a3780"
      },
      "execution_count": 30,
      "outputs": [
        {
          "output_type": "stream",
          "name": "stdout",
          "text": [
            "<class 'fastcore.foundation.L'>\n",
            "This is one of the best films I have ever seen! How anyone can knock this movie just befuddles my imagination! First of all, Gooding's and Harris's performances were simply spectacular, especially Gooding. That is the only way I can describe the acting: spectacular! You have to imagine how difficult it would be to play a character like that and pull it off; then you see Gooding, and his performance was magical. As for the plot, since it was based on a true person, it goes where the lives of the characters go. For all the action buffs, it might be a little slow, but then it's not an action film. I definitely give this movie a 10. It deserves nothing less!\n",
            "<class 'str'>\n"
          ]
        }
      ]
    },
    {
      "cell_type": "code",
      "source": [
        "from fastai.text.all import SubwordTokenizer\n",
        "\n",
        "# Подловная токенизация, sz - размер словаря\n",
        "\n",
        "def subword(sz):\n",
        "  sp = SubwordTokenizer(vocab_sz=sz)\n",
        "  sp.setup(txts)\n",
        "  # sample return\n",
        "  return ' | '.join(first(sp([txt]))[:40])\n"
      ],
      "metadata": {
        "id": "Eeprr8jUsIKf"
      },
      "execution_count": 42,
      "outputs": []
    },
    {
      "cell_type": "code",
      "source": [
        "subword(200)"
      ],
      "metadata": {
        "colab": {
          "base_uri": "https://localhost:8080/",
          "height": 54
        },
        "id": "PMLLJJvIPOpN",
        "outputId": "0e3a4e2f-158d-4b87-ec2c-973c895bc8f7"
      },
      "execution_count": 46,
      "outputs": [
        {
          "output_type": "display_data",
          "data": {
            "text/plain": [
              "<IPython.core.display.HTML object>"
            ],
            "text/html": [
              "\n",
              "<style>\n",
              "    /* Turns off some styling */\n",
              "    progress {\n",
              "        /* gets rid of default border in Firefox and Opera. */\n",
              "        border: none;\n",
              "        /* Needs to be in here for Safari polyfill so background images work as expected. */\n",
              "        background-size: auto;\n",
              "    }\n",
              "    progress:not([value]), progress:not([value])::-webkit-progress-bar {\n",
              "        background: repeating-linear-gradient(45deg, #7e7e7e, #7e7e7e 10px, #5c5c5c 10px, #5c5c5c 20px);\n",
              "    }\n",
              "    .progress-bar-interrupted, .progress-bar-interrupted::-webkit-progress-bar {\n",
              "        background: #F44336;\n",
              "    }\n",
              "</style>\n"
            ]
          },
          "metadata": {}
        },
        {
          "output_type": "display_data",
          "data": {
            "text/plain": [
              "<IPython.core.display.HTML object>"
            ],
            "text/html": []
          },
          "metadata": {}
        },
        {
          "output_type": "execute_result",
          "data": {
            "text/plain": [
              "'▁ | T | h | i | s | ▁is | ▁on | e | ▁of | ▁the | ▁be | st | ▁film | s | ▁I | ▁h | a | ve | ▁ | e | ver | ▁ | se | en | ! | ▁ | H | ow | ▁ | an | y | on | e | ▁ca | n | ▁ | k | n | o | c'"
            ],
            "application/vnd.google.colaboratory.intrinsic+json": {
              "type": "string"
            }
          },
          "metadata": {},
          "execution_count": 46
        }
      ]
    },
    {
      "cell_type": "markdown",
      "source": [
        "- Используем словарь меньшего размера, каждый токен будет менльее число знаков\n",
        "- Для представление предложениия требуется больше токенов"
      ],
      "metadata": {
        "id": "C-qlKlyAYFlU"
      }
    },
    {
      "cell_type": "code",
      "source": [
        "subword(1000)"
      ],
      "metadata": {
        "colab": {
          "base_uri": "https://localhost:8080/",
          "height": 54
        },
        "id": "bLkgDnboWaCS",
        "outputId": "c5987595-faf3-4c54-d57f-9da8e275e38d"
      },
      "execution_count": 44,
      "outputs": [
        {
          "output_type": "display_data",
          "data": {
            "text/plain": [
              "<IPython.core.display.HTML object>"
            ],
            "text/html": [
              "\n",
              "<style>\n",
              "    /* Turns off some styling */\n",
              "    progress {\n",
              "        /* gets rid of default border in Firefox and Opera. */\n",
              "        border: none;\n",
              "        /* Needs to be in here for Safari polyfill so background images work as expected. */\n",
              "        background-size: auto;\n",
              "    }\n",
              "    progress:not([value]), progress:not([value])::-webkit-progress-bar {\n",
              "        background: repeating-linear-gradient(45deg, #7e7e7e, #7e7e7e 10px, #5c5c5c 10px, #5c5c5c 20px);\n",
              "    }\n",
              "    .progress-bar-interrupted, .progress-bar-interrupted::-webkit-progress-bar {\n",
              "        background: #F44336;\n",
              "    }\n",
              "</style>\n"
            ]
          },
          "metadata": {}
        },
        {
          "output_type": "display_data",
          "data": {
            "text/plain": [
              "<IPython.core.display.HTML object>"
            ],
            "text/html": []
          },
          "metadata": {}
        },
        {
          "output_type": "execute_result",
          "data": {
            "text/plain": [
              "'▁This | ▁is | ▁one | ▁of | ▁the | ▁best | ▁films | ▁I | ▁have | ▁ever | ▁seen | ! | ▁H | ow | ▁anyone | ▁can | ▁k | no | ck | ▁this | ▁movie | ▁just | ▁be | f | ud | d | le | s | ▁my | ▁ | im | ag | in | ation | ! | ▁F | ir | st | ▁of | ▁all'"
            ],
            "application/vnd.google.colaboratory.intrinsic+json": {
              "type": "string"
            }
          },
          "metadata": {},
          "execution_count": 44
        }
      ]
    },
    {
      "cell_type": "markdown",
      "source": [
        "- Используем более крупный словарь, наиболее распространенные слова окажутся в словаре"
      ],
      "metadata": {
        "id": "1Tmtb26MYCqi"
      }
    },
    {
      "cell_type": "code",
      "source": [
        "subword(10000)"
      ],
      "metadata": {
        "colab": {
          "base_uri": "https://localhost:8080/",
          "height": 72
        },
        "id": "JUPlRKTYZP4_",
        "outputId": "cc2f2339-f099-408d-c04c-a01ce0bbae03"
      },
      "execution_count": 45,
      "outputs": [
        {
          "output_type": "display_data",
          "data": {
            "text/plain": [
              "<IPython.core.display.HTML object>"
            ],
            "text/html": [
              "\n",
              "<style>\n",
              "    /* Turns off some styling */\n",
              "    progress {\n",
              "        /* gets rid of default border in Firefox and Opera. */\n",
              "        border: none;\n",
              "        /* Needs to be in here for Safari polyfill so background images work as expected. */\n",
              "        background-size: auto;\n",
              "    }\n",
              "    progress:not([value]), progress:not([value])::-webkit-progress-bar {\n",
              "        background: repeating-linear-gradient(45deg, #7e7e7e, #7e7e7e 10px, #5c5c5c 10px, #5c5c5c 20px);\n",
              "    }\n",
              "    .progress-bar-interrupted, .progress-bar-interrupted::-webkit-progress-bar {\n",
              "        background: #F44336;\n",
              "    }\n",
              "</style>\n"
            ]
          },
          "metadata": {}
        },
        {
          "output_type": "display_data",
          "data": {
            "text/plain": [
              "<IPython.core.display.HTML object>"
            ],
            "text/html": []
          },
          "metadata": {}
        },
        {
          "output_type": "execute_result",
          "data": {
            "text/plain": [
              "\"▁This | ▁is | ▁one | ▁of | ▁the | ▁best | ▁films | ▁I | ▁have | ▁ever | ▁seen | ! | ▁How | ▁anyone | ▁can | ▁knock | ▁this | ▁movie | ▁just | ▁be | fu | d | d | les | ▁my | ▁imagination | ! | ▁First | ▁of | ▁all | , | ▁Good | ing | ' | s | ▁and | ▁Harris | ' | s | ▁performances\""
            ],
            "application/vnd.google.colaboratory.intrinsic+json": {
              "type": "string"
            }
          },
          "metadata": {},
          "execution_count": 45
        }
      ]
    },
    {
      "cell_type": "markdown",
      "source": [
        "Выбор размера словаря подслов = компромисс \n",
        "- Более крупный размер озночает меньше число токенов в предложении, ускоренное обучение, меньше затарат для памяти \n",
        "-  Но с другой стороны, это озночает увеличение матриц вложении, что потребует изучения большего объема данных "
      ],
      "metadata": {
        "id": "R8uBleb6bhEe"
      }
    },
    {
      "cell_type": "markdown",
      "source": [
        "### Нумеризация с помощью Fastai\n",
        "\n",
        "Разделив наши тексты на токены, нужно преобразовать их в числа"
      ],
      "metadata": {
        "id": "itljnDsfgAe1"
      }
    },
    {
      "cell_type": "code",
      "source": [
        "# sample\n",
        "txt"
      ],
      "metadata": {
        "colab": {
          "base_uri": "https://localhost:8080/",
          "height": 126
        },
        "id": "JO78qwbHjOme",
        "outputId": "2e157dc8-b181-437f-c1cf-ea0422c4598a"
      },
      "execution_count": 47,
      "outputs": [
        {
          "output_type": "execute_result",
          "data": {
            "text/plain": [
              "\"This is one of the best films I have ever seen! How anyone can knock this movie just befuddles my imagination! First of all, Gooding's and Harris's performances were simply spectacular, especially Gooding. That is the only way I can describe the acting: spectacular! You have to imagine how difficult it would be to play a character like that and pull it off; then you see Gooding, and his performance was magical. As for the plot, since it was based on a true person, it goes where the lives of the characters go. For all the action buffs, it might be a little slow, but then it's not an action film. I definitely give this movie a 10. It deserves nothing less!\""
            ],
            "application/vnd.google.colaboratory.intrinsic+json": {
              "type": "string"
            }
          },
          "metadata": {},
          "execution_count": 47
        }
      ]
    },
    {
      "cell_type": "code",
      "source": [
        "toks = tkn(txt)\n",
        "toks"
      ],
      "metadata": {
        "id": "ksMkkctff3Nl",
        "colab": {
          "base_uri": "https://localhost:8080/"
        },
        "outputId": "6e8d5c50-8bea-4035-da16-5657da37672a"
      },
      "execution_count": 49,
      "outputs": [
        {
          "output_type": "execute_result",
          "data": {
            "text/plain": [
              "(#156) ['xxbos','xxmaj','this','is','one','of','the','best','films','i'...]"
            ]
          },
          "metadata": {},
          "execution_count": 49
        }
      ]
    },
    {
      "cell_type": "markdown",
      "source": [
        "- Чтобы создать словарь, вызовем для `Numericalize` метод `setup`"
      ],
      "metadata": {
        "id": "1Awy3Dt0jXlo"
      }
    },
    {
      "cell_type": "code",
      "source": [
        "# sample tokenising \n",
        "toks_sample = txts[:200].map(tkn)\n",
        "toks_sample[0]"
      ],
      "metadata": {
        "colab": {
          "base_uri": "https://localhost:8080/"
        },
        "id": "IuZRJuunbzjY",
        "outputId": "c2f5fc2d-a686-4456-f2af-95fbcf28d778"
      },
      "execution_count": 52,
      "outputs": [
        {
          "output_type": "execute_result",
          "data": {
            "text/plain": [
              "(#156) ['xxbos','xxmaj','this','is','one','of','the','best','films','i'...]"
            ]
          },
          "metadata": {},
          "execution_count": 52
        }
      ]
    },
    {
      "cell_type": "code",
      "source": [
        "from fastai.text.all import Numericalize\n",
        "\n",
        "num = Numericalize()\n",
        "num.setup(toks_sample)"
      ],
      "metadata": {
        "id": "uQfIr_ykkRP6"
      },
      "execution_count": 53,
      "outputs": []
    },
    {
      "cell_type": "code",
      "source": [
        "coll_repr(num.vocab,10)"
      ],
      "metadata": {
        "colab": {
          "base_uri": "https://localhost:8080/",
          "height": 36
        },
        "id": "gTwhYvIr90lc",
        "outputId": "d02e0a16-acb8-495f-b5b0-e5e25333cc64"
      },
      "execution_count": 54,
      "outputs": [
        {
          "output_type": "execute_result",
          "data": {
            "text/plain": [
              "\"(#2104) ['xxunk','xxpad','xxbos','xxeos','xxfld','xxrep','xxwrep','xxup','xxmaj','the'...]\""
            ],
            "application/vnd.google.colaboratory.intrinsic+json": {
              "type": "string"
            }
          },
          "metadata": {},
          "execution_count": 54
        }
      ]
    },
    {
      "cell_type": "markdown",
      "source": [
        "- Первые у нас специальные токены (**токены правил**), после них уже идут слова в порядке своей частности\n",
        "- По умолчанию min_freq = 3 и max_vocab = 60000 слов, превышая эту сумму токены груперуются в **xxunk**"
      ],
      "metadata": {
        "id": "jJquAU_kAZKM"
      }
    },
    {
      "cell_type": "code",
      "source": [
        "nums = num(toks)[:10]\n",
        "nums"
      ],
      "metadata": {
        "colab": {
          "base_uri": "https://localhost:8080/"
        },
        "id": "J475Cu5h9526",
        "outputId": "ee6add52-de41-4a6e-bd12-c8b1a229dccb"
      },
      "execution_count": 55,
      "outputs": [
        {
          "output_type": "execute_result",
          "data": {
            "text/plain": [
              "TensorText([  2,   8,  22,  16,  39,  14,   9, 112, 134,  19])"
            ]
          },
          "metadata": {},
          "execution_count": 55
        }
      ]
    },
    {
      "cell_type": "markdown",
      "source": [
        "- декодируем данные обратно в string"
      ],
      "metadata": {
        "id": "Yiu1r63GBXTA"
      }
    },
    {
      "cell_type": "code",
      "source": [
        "' | '.join(num.vocab[i] for i in nums)"
      ],
      "metadata": {
        "colab": {
          "base_uri": "https://localhost:8080/",
          "height": 36
        },
        "id": "vk7sZlZoBLiQ",
        "outputId": "bf174d1d-945e-4af2-b021-42817d0dc72e"
      },
      "execution_count": 56,
      "outputs": [
        {
          "output_type": "execute_result",
          "data": {
            "text/plain": [
              "'xxbos | xxmaj | this | is | one | of | the | best | films | i'"
            ],
            "application/vnd.google.colaboratory.intrinsic+json": {
              "type": "string"
            }
          },
          "metadata": {},
          "execution_count": 56
        }
      ]
    },
    {
      "cell_type": "markdown",
      "source": [
        "### Создаем Батчи (Batches)"
      ],
      "metadata": {
        "id": "E5zYnqXcHWms"
      }
    },
    {
      "cell_type": "code",
      "source": [
        "from fastai.text.all import LMDataLoader\n",
        "\n",
        "nums_sample = toks_sample.map(num)"
      ],
      "metadata": {
        "id": "X7pdWufsBkhJ"
      },
      "execution_count": 57,
      "outputs": []
    },
    {
      "cell_type": "code",
      "source": [
        "dl = LMDataLoader(nums_sample)"
      ],
      "metadata": {
        "id": "zWhAggNPH_Rr"
      },
      "execution_count": 58,
      "outputs": []
    },
    {
      "cell_type": "code",
      "source": [
        "X,y = first(dl)\n",
        "print(X.size(),y.size())"
      ],
      "metadata": {
        "colab": {
          "base_uri": "https://localhost:8080/"
        },
        "id": "_Oh4uGpUIEMm",
        "outputId": "f1be0ae9-a37e-46c2-ef73-61bc278fd34f"
      },
      "execution_count": 59,
      "outputs": [
        {
          "output_type": "stream",
          "name": "stdout",
          "text": [
            "torch.Size([64, 72]) torch.Size([64, 72])\n"
          ]
        }
      ]
    },
    {
      "cell_type": "code",
      "source": [
        "\" | \".join(num.vocab[i] for i in X[0][:20])"
      ],
      "metadata": {
        "colab": {
          "base_uri": "https://localhost:8080/",
          "height": 54
        },
        "id": "1mK4ZU4GIMBF",
        "outputId": "590c34c0-3cba-43db-dd23-9bbe37055d69"
      },
      "execution_count": 60,
      "outputs": [
        {
          "output_type": "execute_result",
          "data": {
            "text/plain": [
              "'xxbos | xxmaj | this | is | one | of | the | best | films | i | have | ever | seen | ! | xxmaj | how | anyone | can | xxunk | this'"
            ],
            "application/vnd.google.colaboratory.intrinsic+json": {
              "type": "string"
            }
          },
          "metadata": {},
          "execution_count": 60
        }
      ]
    },
    {
      "cell_type": "code",
      "source": [
        "\" | \".join(num.vocab[i] for i in y[0][:20])"
      ],
      "metadata": {
        "colab": {
          "base_uri": "https://localhost:8080/",
          "height": 54
        },
        "id": "Hr9PxFg2IrU8",
        "outputId": "c6ef689a-af34-45c2-cba9-e370c9640a35"
      },
      "execution_count": 61,
      "outputs": [
        {
          "output_type": "execute_result",
          "data": {
            "text/plain": [
              "'xxmaj | this | is | one | of | the | best | films | i | have | ever | seen | ! | xxmaj | how | anyone | can | xxunk | this | movie'"
            ],
            "application/vnd.google.colaboratory.intrinsic+json": {
              "type": "string"
            }
          },
          "metadata": {},
          "execution_count": 61
        }
      ]
    },
    {
      "cell_type": "markdown",
      "source": [
        "### Обучение классификатора текста\n",
        "\n",
        "с помощью **переноса обучения** (transfer learning) классификатор текста обучается в два этапа\n",
        "- Тонко настроем (fine-tune) предварительно наученную на корпусе (**википедии**) языковую модель на корпусе (**IMDB**)\n",
        "- Только после этого эту модель можно использовать для классификации"
      ],
      "metadata": {
        "id": "e8ujV9cPLTkF"
      }
    },
    {
      "cell_type": "markdown",
      "source": [
        "#### Создание языковой модели с помощью DataBlock"
      ],
      "metadata": {
        "id": "L9uz7IHeNGYV"
      }
    },
    {
      "cell_type": "code",
      "source": [
        "from fastai.text.all import partial, DataBlock, TextBlock, RandomSplitter\n",
        "\n",
        "get_imdb = partial(get_text_files,folders=['train','test','unsup'])"
      ],
      "metadata": {
        "id": "ozp8jNLyIwlH"
      },
      "execution_count": 62,
      "outputs": []
    },
    {
      "cell_type": "code",
      "source": [
        "dls_lm = DataBlock(\n",
        "    blocks=TextBlock.from_folder(path,is_lm=True),\n",
        "    get_items=get_imdb,\n",
        "    splitter=RandomSplitter(0.1)\n",
        ").dataloaders(path,path=path,bs=128,seq_len=80)"
      ],
      "metadata": {
        "id": "eB3XAyi-N1k6",
        "colab": {
          "base_uri": "https://localhost:8080/",
          "height": 17
        },
        "outputId": "50295c7b-7006-4c23-f667-c1d8516cdd99"
      },
      "execution_count": 63,
      "outputs": [
        {
          "output_type": "display_data",
          "data": {
            "text/plain": [
              "<IPython.core.display.HTML object>"
            ],
            "text/html": [
              "\n",
              "<style>\n",
              "    /* Turns off some styling */\n",
              "    progress {\n",
              "        /* gets rid of default border in Firefox and Opera. */\n",
              "        border: none;\n",
              "        /* Needs to be in here for Safari polyfill so background images work as expected. */\n",
              "        background-size: auto;\n",
              "    }\n",
              "    progress:not([value]), progress:not([value])::-webkit-progress-bar {\n",
              "        background: repeating-linear-gradient(45deg, #7e7e7e, #7e7e7e 10px, #5c5c5c 10px, #5c5c5c 20px);\n",
              "    }\n",
              "    .progress-bar-interrupted, .progress-bar-interrupted::-webkit-progress-bar {\n",
              "        background: #F44336;\n",
              "    }\n",
              "</style>\n"
            ]
          },
          "metadata": {}
        },
        {
          "output_type": "display_data",
          "data": {
            "text/plain": [
              "<IPython.core.display.HTML object>"
            ],
            "text/html": []
          },
          "metadata": {}
        }
      ]
    },
    {
      "cell_type": "code",
      "source": [
        "dls_lm.show_batch(max_n=2)"
      ],
      "metadata": {
        "colab": {
          "base_uri": "https://localhost:8080/",
          "height": 264
        },
        "id": "7rRuPskVdeR8",
        "outputId": "570359c1-8c2c-4b2a-d074-4dbb90c85e10"
      },
      "execution_count": null,
      "outputs": [
        {
          "output_type": "display_data",
          "data": {
            "text/plain": [
              "<IPython.core.display.HTML object>"
            ],
            "text/html": [
              "<table border=\"1\" class=\"dataframe\">\n",
              "  <thead>\n",
              "    <tr style=\"text-align: right;\">\n",
              "      <th></th>\n",
              "      <th>text</th>\n",
              "      <th>text_</th>\n",
              "    </tr>\n",
              "  </thead>\n",
              "  <tbody>\n",
              "    <tr>\n",
              "      <th>0</th>\n",
              "      <td>xxbos xxmaj this film is puree of heist movies : the xxmaj comic xxmaj heist ( ocean 's xxmaj eleven ) , the xxmaj sexy xxmaj heist ( the xxmaj thomas xxmaj crown xxmaj affair ) , the xxmaj one xxmaj last xxmaj heist ( the xxmaj score ) , and the \" gee , i xxmaj kinda xxmaj like the xxmaj guy xxmaj i 'm xxmaj chasing / xxmaj being xxmaj chased xxmaj by \" xxmaj heist ( heat</td>\n",
              "      <td>xxmaj this film is puree of heist movies : the xxmaj comic xxmaj heist ( ocean 's xxmaj eleven ) , the xxmaj sexy xxmaj heist ( the xxmaj thomas xxmaj crown xxmaj affair ) , the xxmaj one xxmaj last xxmaj heist ( the xxmaj score ) , and the \" gee , i xxmaj kinda xxmaj like the xxmaj guy xxmaj i 'm xxmaj chasing / xxmaj being xxmaj chased xxmaj by \" xxmaj heist ( heat )</td>\n",
              "    </tr>\n",
              "    <tr>\n",
              "      <th>1</th>\n",
              "      <td>, xxup please xxup see xxup this xxup film ! xxmaj we can all learn to live life , and stop all these small problems . xxmaj because when someone you love almost passes away or does pass away , everything does n't matter anymore . \\n\\n 10 out of 10 xxbos xxmaj in watching this early demille work , it was once again reinforced to me that early demille is far superior to late demille . xxmaj his attention</td>\n",
              "      <td>xxup please xxup see xxup this xxup film ! xxmaj we can all learn to live life , and stop all these small problems . xxmaj because when someone you love almost passes away or does pass away , everything does n't matter anymore . \\n\\n 10 out of 10 xxbos xxmaj in watching this early demille work , it was once again reinforced to me that early demille is far superior to late demille . xxmaj his attention to</td>\n",
              "    </tr>\n",
              "  </tbody>\n",
              "</table>"
            ]
          },
          "metadata": {}
        }
      ]
    },
    {
      "cell_type": "markdown",
      "source": [
        "#### Тонкая настройка языковой модели\n",
        "\n",
        "*   List item\n",
        "*   List item\n",
        "\n"
      ],
      "metadata": {
        "id": "jT_7COxxoMAh"
      }
    },
    {
      "cell_type": "code",
      "source": [
        "from fastai.text.all import language_model_learner, AWD_LSTM, accuracy, Perplexity\n",
        "\n",
        "learn = language_model_learner(dls_lm,AWD_LSTM,drop_mult=0.3,\n",
        "                               metrics=[accuracy,Perplexity()]).to_fp16()"
      ],
      "metadata": {
        "colab": {
          "base_uri": "https://localhost:8080/",
          "height": 37
        },
        "id": "Rd0Fy763kVeb",
        "outputId": "d5f539b6-d637-413c-d9b5-c6409199d883"
      },
      "execution_count": null,
      "outputs": [
        {
          "output_type": "display_data",
          "data": {
            "text/plain": [
              "<IPython.core.display.HTML object>"
            ],
            "text/html": [
              "\n",
              "<style>\n",
              "    /* Turns off some styling */\n",
              "    progress {\n",
              "        /* gets rid of default border in Firefox and Opera. */\n",
              "        border: none;\n",
              "        /* Needs to be in here for Safari polyfill so background images work as expected. */\n",
              "        background-size: auto;\n",
              "    }\n",
              "    progress:not([value]), progress:not([value])::-webkit-progress-bar {\n",
              "        background: repeating-linear-gradient(45deg, #7e7e7e, #7e7e7e 10px, #5c5c5c 10px, #5c5c5c 20px);\n",
              "    }\n",
              "    .progress-bar-interrupted, .progress-bar-interrupted::-webkit-progress-bar {\n",
              "        background: #F44336;\n",
              "    }\n",
              "</style>\n"
            ]
          },
          "metadata": {}
        },
        {
          "output_type": "display_data",
          "data": {
            "text/plain": [
              "<IPython.core.display.HTML object>"
            ],
            "text/html": [
              "\n",
              "    <div>\n",
              "      <progress value='105070592' class='' max='105067061' style='width:300px; height:20px; vertical-align: middle;'></progress>\n",
              "      100.00% [105070592/105067061 00:09&lt;00:00]\n",
              "    </div>\n",
              "    "
            ]
          },
          "metadata": {}
        }
      ]
    },
    {
      "cell_type": "code",
      "source": [
        "learn.fit_one_cycle(1,2e-2)"
      ],
      "metadata": {
        "colab": {
          "base_uri": "https://localhost:8080/",
          "height": 80
        },
        "id": "9HfA3T7encom",
        "outputId": "9314eec0-b742-4659-ccde-132c240ebd77"
      },
      "execution_count": null,
      "outputs": [
        {
          "output_type": "display_data",
          "data": {
            "text/plain": [
              "<IPython.core.display.HTML object>"
            ],
            "text/html": [
              "\n",
              "<style>\n",
              "    /* Turns off some styling */\n",
              "    progress {\n",
              "        /* gets rid of default border in Firefox and Opera. */\n",
              "        border: none;\n",
              "        /* Needs to be in here for Safari polyfill so background images work as expected. */\n",
              "        background-size: auto;\n",
              "    }\n",
              "    progress:not([value]), progress:not([value])::-webkit-progress-bar {\n",
              "        background: repeating-linear-gradient(45deg, #7e7e7e, #7e7e7e 10px, #5c5c5c 10px, #5c5c5c 20px);\n",
              "    }\n",
              "    .progress-bar-interrupted, .progress-bar-interrupted::-webkit-progress-bar {\n",
              "        background: #F44336;\n",
              "    }\n",
              "</style>\n"
            ]
          },
          "metadata": {}
        },
        {
          "output_type": "display_data",
          "data": {
            "text/plain": [
              "<IPython.core.display.HTML object>"
            ],
            "text/html": [
              "<table border=\"1\" class=\"dataframe\">\n",
              "  <thead>\n",
              "    <tr style=\"text-align: left;\">\n",
              "      <th>epoch</th>\n",
              "      <th>train_loss</th>\n",
              "      <th>valid_loss</th>\n",
              "      <th>accuracy</th>\n",
              "      <th>perplexity</th>\n",
              "      <th>time</th>\n",
              "    </tr>\n",
              "  </thead>\n",
              "  <tbody>\n",
              "    <tr>\n",
              "      <td>0</td>\n",
              "      <td>4.006543</td>\n",
              "      <td>3.899345</td>\n",
              "      <td>0.300549</td>\n",
              "      <td>49.370087</td>\n",
              "      <td>26:29</td>\n",
              "    </tr>\n",
              "  </tbody>\n",
              "</table>"
            ]
          },
          "metadata": {}
        }
      ]
    },
    {
      "cell_type": "markdown",
      "source": [
        "#### Сохранение и загрузка модели"
      ],
      "metadata": {
        "id": "GtrHFaTToj4y"
      }
    },
    {
      "cell_type": "code",
      "source": [
        "learn.save('1epoch')"
      ],
      "metadata": {
        "id": "6LzCKQ6pnzPl",
        "colab": {
          "base_uri": "https://localhost:8080/"
        },
        "outputId": "3ecbd72e-d11d-4e09-d972-6b64b3b365bc"
      },
      "execution_count": null,
      "outputs": [
        {
          "output_type": "execute_result",
          "data": {
            "text/plain": [
              "Path('/root/.fastai/data/imdb/models/1epoch.pth')"
            ]
          },
          "metadata": {},
          "execution_count": 30
        }
      ]
    },
    {
      "cell_type": "code",
      "source": [
        "learn.load('1epoch')"
      ],
      "metadata": {
        "id": "pNpgYquOo1Ir",
        "colab": {
          "base_uri": "https://localhost:8080/"
        },
        "outputId": "f5ae7835-b3f8-4e89-f4c3-5ef1d86ef531"
      },
      "execution_count": null,
      "outputs": [
        {
          "output_type": "execute_result",
          "data": {
            "text/plain": [
              "<fastai.text.learner.LMLearner at 0x7f0d44044820>"
            ]
          },
          "metadata": {},
          "execution_count": 31
        }
      ]
    }
  ]
}